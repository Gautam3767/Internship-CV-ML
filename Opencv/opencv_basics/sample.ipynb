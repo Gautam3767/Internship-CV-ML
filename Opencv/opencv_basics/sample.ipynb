{
 "cells": [
  {
   "metadata": {},
   "cell_type": "markdown",
   "source": [
    "# This is a sample Jupyter Notebook\n",
    "\n",
    "Below is an example of a code cell. \n",
    "Put your cursor into the cell and press Shift+Enter to execute it and select the next one, or click !here goes the icon of the corresponding button in the gutter! button.\n",
    "To debug a cell, press Alt+Shift+Enter, or click !here goes the icon of the corresponding button in the gutter! button.\n",
    "\n",
    "Press Double Shift to search everywhere for classes, files, tool windows, actions, and settings.\n",
    "\n",
    "To learn more about Jupyter Notebooks in PyCharm, see [help](https://www.jetbrains.com/help/pycharm/jupyter-notebook-support.html).\n",
    "For an overview of PyCharm, go to Help -> Learn IDE features or refer to [our documentation](https://www.jetbrains.com/help/pycharm/getting-started.html)."
   ],
   "id": "8a77807f92f26ee"
  },
  {
   "metadata": {
    "ExecuteTime": {
     "end_time": "2024-07-31T11:54:43.020667Z",
     "start_time": "2024-07-31T11:54:42.263070Z"
    }
   },
   "cell_type": "code",
   "source": [
    "import os\n",
    "import cv2\n",
    "%matplotlib inline\n",
    "from matplotlib import pyplot as plt\n",
    "import sys"
   ],
   "id": "fbc121e30a2defb3",
   "outputs": [],
   "execution_count": 2
  },
  {
   "metadata": {
    "ExecuteTime": {
     "end_time": "2024-07-31T11:57:41.892708Z",
     "start_time": "2024-07-31T11:57:41.887237Z"
    }
   },
   "cell_type": "code",
   "source": "image_path = os.path.join('.', 'data', 'bird.jpg')",
   "id": "7375338e01508a4a",
   "outputs": [],
   "execution_count": 5
  },
  {
   "metadata": {
    "ExecuteTime": {
     "end_time": "2024-07-31T11:57:42.418710Z",
     "start_time": "2024-07-31T11:57:42.413985Z"
    }
   },
   "cell_type": "code",
   "source": "img = cv2.imread(image_path)",
   "id": "1bdcc52b2971a050",
   "outputs": [],
   "execution_count": 6
  },
  {
   "metadata": {
    "ExecuteTime": {
     "end_time": "2024-07-31T12:00:06.537707Z",
     "start_time": "2024-07-31T12:00:01.298817Z"
    }
   },
   "cell_type": "code",
   "source": [
    "if img is None:\n",
    "    sys.exit(\"Could not read the image.\")\n",
    "\n",
    "cv2.imshow(\"display window\", img)\n",
    "k = cv2.waitKey(0)"
   ],
   "id": "334bbc640811f9d7",
   "outputs": [],
   "execution_count": 8
  },
  {
   "metadata": {
    "ExecuteTime": {
     "end_time": "2024-07-31T12:00:54.176111Z",
     "start_time": "2024-07-31T12:00:52.495869Z"
    }
   },
   "cell_type": "code",
   "source": "webcam = cv2.VideoCapture(0)",
   "id": "dc9735947feffbb6",
   "outputs": [],
   "execution_count": 10
  },
  {
   "metadata": {
    "ExecuteTime": {
     "end_time": "2024-07-31T12:02:16.643020Z",
     "start_time": "2024-07-31T12:01:34.336442Z"
    }
   },
   "cell_type": "code",
   "source": [
    "while True:\n",
    "  ret, frame = webcam.read()\n",
    "\n",
    "  if not ret:  # Check if a frame was successfully read\n",
    "    print(\"Failed to grab frame. Check webcam connection and permissions.\")\n",
    "    break  # Exit the loop if no frame is captured\n",
    "\n",
    "  cv2.imshow('frame', frame)\n",
    "  if cv2.waitKey(40) & 0xFF == ord('q'):\n",
    "    break\n",
    "\n",
    "webcam.release()\n",
    "cv2.destroyAllWindows()"
   ],
   "id": "925d5bcae61b3024",
   "outputs": [],
   "execution_count": 12
  },
  {
   "metadata": {},
   "cell_type": "code",
   "outputs": [],
   "execution_count": null,
   "source": "",
   "id": "78a8688eea764c1d"
  }
 ],
 "metadata": {
  "kernelspec": {
   "display_name": "Python 3",
   "language": "python",
   "name": "python3"
  },
  "language_info": {
   "codemirror_mode": {
    "name": "ipython",
    "version": 2
   },
   "file_extension": ".py",
   "mimetype": "text/x-python",
   "name": "python",
   "nbconvert_exporter": "python",
   "pygments_lexer": "ipython2",
   "version": "2.7.6"
  }
 },
 "nbformat": 4,
 "nbformat_minor": 5
}
